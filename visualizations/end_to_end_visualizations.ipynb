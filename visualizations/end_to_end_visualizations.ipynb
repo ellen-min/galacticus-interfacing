{
 "cells": [
  {
   "cell_type": "code",
   "execution_count": 12,
   "metadata": {},
   "outputs": [
    {
     "name": "stdout",
     "output_type": "stream",
     "text": [
      "Defaulting to user installation because normal site-packages is not writeable\n",
      "Requirement already satisfied: h5py in /central/home/emin/.local/lib/python3.7/site-packages (3.7.0)\n",
      "Requirement already satisfied: numpy>=1.14.5 in /central/software/python/3.7.0/lib/python3.7/site-packages (from h5py) (1.18.5)\n",
      "\u001b[33mWARNING: You are using pip version 20.1.1; however, version 22.2.1 is available.\n",
      "You should consider upgrading via the '/central/software/python/3.7.0/bin/python3.7 -m pip install --upgrade pip' command.\u001b[0m\n",
      "Done importing and transporting to directory.\n"
     ]
    }
   ],
   "source": [
    "# Import packages.\n",
    "import sys\n",
    "!{sys.executable} -m pip install h5py\n",
    "import h5py\n",
    "import xml.etree.ElementTree as ET\n",
    "import os\n",
    "import readGalacticusData\n",
    "import numpy as np\n",
    "import random\n",
    "import matplotlib.pyplot as plt\n",
    "\n",
    "# TODO: Move to appropriate directory here.\n",
    "cwd = \"/central/home/emin/Galacticus/galacticus\"\n",
    "os.chdir(cwd)\n",
    "print(\"Done importing and transporting to directory.\")"
   ]
  },
  {
   "cell_type": "code",
   "execution_count": 13,
   "metadata": {},
   "outputs": [
    {
     "name": "stdout",
     "output_type": "stream",
     "text": [
      "Compiled helper functions for running Galacticus.\n"
     ]
    }
   ],
   "source": [
    "def genHaloMassFile(haloMassList, filePath):\n",
    "    '''\n",
    "    Writes a .hdf5 halo mass file to filePath given a list of halo masses.\n",
    "    Weights are set default to 1.0.\n",
    "    '''\n",
    "    masses = haloMassList\n",
    "    weights = [1.0] * len(haloMassList)\n",
    "    with h5py.File(filePath, 'w') as f:\n",
    "        f.create_dataset('treeRootMass', data=masses)\n",
    "        f.create_dataset('treeWeight', data=weights)\n",
    "        f.close()\n",
    "\n",
    "def genSampleHaloMassList(start, numHalos):\n",
    "    '''\n",
    "    Generates a halo mass list of length numHalos. \n",
    "    Starts at 10^(start) and increases in magnitude of 10.\n",
    "    '''\n",
    "    masses = np.array([pow, 10.0, _] for _ in range(start, start+numHalos))\n",
    "    return masses\n",
    "\n",
    "def getMassResolution(mass):\n",
    "    '''\n",
    "    Sample function to get mass resolution based on mass.\n",
    "    Here it is scaled by 3e-4.\n",
    "    '''\n",
    "    return mass*3*pow(10.0, -4)\n",
    "\n",
    "# Generate parameter file.\n",
    "def genParameterFile(templateFilePath, outputDirectory, haloMassList, replicationCount, massResolution):\n",
    "    '''\n",
    "    Generates a parameter file from a template given the input parameters.\n",
    "    Returns the new simulation number and parameter file path.\n",
    "    \n",
    "    templateFilePath: path containing template parameter file to generate new parameter file from\n",
    "    outputDirectory: relative directory to store generated input and output files\n",
    "                     (can be empty string '' if current directory is OK)\n",
    "    haloMassList: Python list of halos to compute at\n",
    "    replicationCount: replication count of halo populations\n",
    "    massResolution: desired mass resolution of simulations.\n",
    "    '''\n",
    "    simulationNumber = random.randrange(100000)\n",
    "    print(\"SIMULATION NO. \" + str(simulationNumber))\n",
    "    print(\"----------------------------------------------------------------\")\n",
    "\n",
    "    tree = ET.parse(templateFilePath)\n",
    "    root = tree.getroot()\n",
    "\n",
    "    inputFilePath = outputDirectory + 'halo_mass_list_' + str(simulationNumber) + '.hdf5'\n",
    "    genHaloMassFile(haloMassList, inputFilePath)\n",
    "    outputFilePath = outputDirectory + 'halo_mass_output_' + str(simulationNumber) + '.hdf5'\n",
    "  \n",
    "    for mergerTree in root.findall('mergerTreeBuildMasses'):\n",
    "        for replicate in mergerTree.findall('replicationCount'):\n",
    "            replicate.set('value', str(replicationCount))\n",
    "        for subTree in mergerTree.findall('mergerTreeBuildMasses'):\n",
    "            for inputFile in subTree.findall('fileName'):\n",
    "                inputFile.set('value', inputFilePath)\n",
    "  \n",
    "    for mergerTreeMassRes in root.findall('mergerTreeMassResolution'):\n",
    "        for massRes in mergerTreeMassRes.findall('massResolution'):\n",
    "            massRes.set('value', str(massResolution))\n",
    "  \n",
    "    for outputFile in root.findall('outputFileName'):\n",
    "        outputFile.set('value', outputFilePath)\n",
    "  \n",
    "    paramFile = outputDirectory + 'parameter_file_' + str(simulationNumber) + \".xml\"\n",
    "    tree.write(paramFile)\n",
    "    return simulationNumber, paramFile\n",
    "\n",
    "print(\"Compiled helper functions for running Galacticus.\")"
   ]
  },
  {
   "cell_type": "code",
   "execution_count": 14,
   "metadata": {},
   "outputs": [
    {
     "name": "stdout",
     "output_type": "stream",
     "text": [
      "Compiled helper functions for visualizations.\n"
     ]
    }
   ],
   "source": [
    "def convert_Mpc_to_kpc(subHaloData):\n",
    "    '''\n",
    "    Converts a list of hdf5 subhalo data from Mpc to kpc.\n",
    "    '''\n",
    "    haloMass = readGalacticusData.halo.readHostProperty(subHaloData, 'basicMass') \n",
    "    v_min = np.floor(np.log10(haloMass) - 5)\n",
    "    v_max = np.floor(np.log10(haloMass) - 1)\n",
    "    masses_virInfall = np.log10(subHaloData.MvirInfall()) \n",
    "    arg = np.argsort(subHaloData.Vmax())\n",
    "    ind = np.sort(masses_virInfall) > v_min\n",
    "    \n",
    "    conversion_factor = 1000\n",
    "    \n",
    "    x = subHaloData.positionX()[arg][ind][:-1]\n",
    "    y = subHaloData.positionY()[arg][ind][:-1]\n",
    "    \n",
    "    x_kpc = [conversion_factor*_ for _ in x]\n",
    "    y_kpc = [conversion_factor*_ for _ in y]\n",
    "    return x_kpc, y_kpc\n",
    "\n",
    "def visualize_subhalos(subHaloData, scaleFactor):\n",
    "    '''\n",
    "    Visualizes subhalos given a hdf5 set of subhalo data and desired scale factor,\n",
    "    which affects the size of the individual halos in the visualization.\n",
    "    '''\n",
    "    haloMass = readGalacticusData.halo.readHostProperty(subHaloData, 'basicMass')\n",
    "    v_min = np.floor(np.log10(haloMass) - 5)\n",
    "    v_max = np.floor(np.log10(haloMass) - 1)\n",
    "    \n",
    "    masses_virInfall = np.log10(subHaloData.MvirInfall())\n",
    "    \n",
    "    plt.figure(figsize=(6,6))\n",
    "    \n",
    "    plt.title(\"Subhalo population for mass of magnitude \" + str(np.floor(np.log10(haloMass))))\n",
    "    \n",
    "    arg = np.argsort(subHaloData.Vmax())\n",
    "    ind = np.sort(masses_virInfall) > v_min\n",
    "    \n",
    "    x_kpc, y_kpc = convert_Mpc_to_kpc(subHaloData)\n",
    "\n",
    "    sc = plt.scatter(x_kpc, y_kpc,\n",
    "                 s=scaleFactor*masses_virInfall[arg][ind][:-1],c=masses_virInfall[arg][ind][:-1],\n",
    "                 vmin=v_min,vmax=v_max,cmap='Blues')\n",
    "\n",
    "    cbar = plt.colorbar(sc,fraction=0.046, pad=0.04)\n",
    "    cbar.ax.set_ylabel(r'$\\log(M_{\\mathrm{peak}}/M_{\\mathrm{\\odot}})$', fontsize=28, rotation=90)\n",
    "    cbar.solids.set_rasterized(True)\n",
    "    cir = plt.Circle((0,0),subHaloData.RvirHost*1000,fill=False,ec='k',ls='dashed',lw=2.0)\n",
    "\n",
    "    plt.axes().add_artist(cir)\n",
    "    plotLim = subHaloData.RvirHost*1000*1.25\n",
    "    plt.xlim(-1*plotLim,plotLim)\n",
    "    plt.ylim(-1*plotLim,plotLim)\n",
    "\n",
    "    plt.axes().set_aspect('equal')\n",
    "    plt.xlabel(\"$x\\,[\\\\rm kpc]$\",fontsize=28)\n",
    "    plt.ylabel(\"$y\\,[\\\\rm kpc]$\",fontsize=28)\n",
    "\n",
    "    plt.tight_layout()\n",
    "    plt.show()\n",
    "    \n",
    "print(\"Compiled helper functions for visualizations.\")"
   ]
  },
  {
   "cell_type": "code",
   "execution_count": 15,
   "metadata": {},
   "outputs": [
    {
     "name": "stdout",
     "output_type": "stream",
     "text": [
      "Done initializing parameters.\n"
     ]
    }
   ],
   "source": [
    "# TODO: Specify parameters here.\n",
    "templateFilePath='CASSI/week9/parameter_template.xml'\n",
    "desiredDirectoryPath = 'CASSI/week9/'\n",
    "haloMassList = np.array([10000000000000.0])\n",
    "replicationCount = 1\n",
    "massResolution = getMassResolution(haloMassList[0])\n",
    "\n",
    "print(\"Done initializing parameters.\")"
   ]
  },
  {
   "cell_type": "code",
   "execution_count": 16,
   "metadata": {},
   "outputs": [
    {
     "name": "stdout",
     "output_type": "stream",
     "text": [
      "SIMULATION NO. 88821\n",
      "----------------------------------------------------------------\n",
      "Running Galacticus and visualizing subhalos...\n",
      "This may take 1-2 minutes.\n"
     ]
    },
    {
     "name": "stderr",
     "output_type": "stream",
     "text": [
      "/central/software/python/3.7.0/lib/python3.7/site-packages/matplotlib/cbook/deprecation.py:107: MatplotlibDeprecationWarning: Adding an axes using the same arguments as a previous axes currently reuses the earlier instance.  In a future version, a new instance will always be created and returned.  Meanwhile, this warning can be suppressed, and the future behavior ensured, by passing a unique label to each axes instance.\n",
      "  warnings.warn(message, mplDeprecation, stacklevel=1)\n"
     ]
    },
    {
     "data": {
      "image/png": "[encoded data removed]",
      "text/plain": [
       "<Figure size 432x432 with 2 Axes>"
      ]
     },
     "metadata": {
      "needs_background": "light"
     },
     "output_type": "display_data"
    }
   ],
   "source": [
    "# Run Galacticus and visualize.\n",
    "simulationNumber, paramFilePath = genParameterFile(templateFilePath, desiredDirectoryPath, haloMassList, replicationCount, massResolution)\n",
    "print(\"Running Galacticus and visualizing subhalos...\")\n",
    "print(\"This may take 1-2 minutes.\")\n",
    "runHaloPopulationXML = \"./Galacticus.exe \" + paramFilePath\n",
    "os.system(runHaloPopulationXML)\n",
    "\n",
    "outputFilePath = desiredDirectoryPath + 'halo_mass_output_' + str(simulationNumber) + '.hdf5'\n",
    "halo = {}\n",
    "halo['MW'] = readGalacticusData.halo(outputFilePath, 0.0, 1)\n",
    "#print(\"There are \" + str(halo['MW'].NSubhalo) + \" subhalos.\")\n",
    "visualize_subhalos(halo['MW'], 1)"
   ]
  }
 ],
 "metadata": {
  "kernelspec": {
   "display_name": "Python 3",
   "language": "python",
   "name": "python3"
  },
  "language_info": {
   "codemirror_mode": {
    "name": "ipython",
    "version": 3
   },
   "file_extension": ".py",
   "mimetype": "text/x-python",
   "name": "python",
   "nbconvert_exporter": "python",
   "pygments_lexer": "ipython3",
   "version": "3.7.0"
  }
 },
 "nbformat": 4,
 "nbformat_minor": 2
}
